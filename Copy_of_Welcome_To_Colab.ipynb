{
  "cells": [
    {
      "cell_type": "markdown",
      "metadata": {
        "id": "view-in-github",
        "colab_type": "text"
      },
      "source": [
        "<a href=\"https://colab.research.google.com/github/sleepdeprivation78/DeepSeek-R1/blob/main/Copy_of_Welcome_To_Colab.ipynb\" target=\"_parent\"><img src=\"https://colab.research.google.com/assets/colab-badge.svg\" alt=\"Open In Colab\"/></a>"
      ]
    },
    {
      "cell_type": "code",
      "source": [
        "!pip install yq"
      ],
      "metadata": {
        "id": "tQKp6cINW2S3",
        "outputId": "65e24ddc-899c-49a1-8af6-134c3803a916",
        "colab": {
          "base_uri": "https://localhost:8080/"
        }
      },
      "execution_count": 18,
      "outputs": [
        {
          "output_type": "stream",
          "name": "stdout",
          "text": [
            "Requirement already satisfied: yq in /usr/local/lib/python3.11/dist-packages (3.4.3)\n",
            "Requirement already satisfied: PyYAML>=5.3.1 in /usr/local/lib/python3.11/dist-packages (from yq) (6.0.2)\n",
            "Requirement already satisfied: xmltodict>=0.11.0 in /usr/local/lib/python3.11/dist-packages (from yq) (0.14.2)\n",
            "Requirement already satisfied: tomlkit>=0.11.6 in /usr/local/lib/python3.11/dist-packages (from yq) (0.13.2)\n",
            "Requirement already satisfied: argcomplete>=1.8.1 in /usr/local/lib/python3.11/dist-packages (from yq) (3.6.2)\n"
          ]
        }
      ]
    },
    {
      "cell_type": "code",
      "source": [
        "API_KEY = \"sk-ee2a02d99e8d4911bb0bc70cf3f3b276\"  # Replace with your DeepSeek API key\n",
        "MODE = \"file\"  # or \"web\"\n",
        "\n",
        "file_name = \"code.txt\"\n",
        "file_content = \"\"\"curl \"https://generativelanguage.googleapis.com/v1beta/models/gemini-2.0-flash:generateContent?key=GEMINI_API_KEY\" \\\\\n",
        "-H 'Content-Type: application/json' \\\\\n",
        "-X POST \\\\\n",
        "-d '{\n",
        "  \"contents\": [{\n",
        "    \"parts\":[{\"text\": \"Explain how AI works\"}]\n",
        "    }]\n",
        "   }'\"\"\"\n",
        "file_question = \"What is this code doing, and how can I adapt it to use the DeepSeek API instead?\"\n",
        "\n",
        "web_question = \"Compare GPT-4o and DeepSeek-R1 on reasoning performance.\"\n",
        "web_snippets = \"\"\"[webpage 1 begin]\n",
        "OpenAI's GPT-4o is a multimodal model released in May 2024 with improved vision and speed.\n",
        "[webpage 1 end]\n",
        "[webpage 2 begin]\n",
        "DeepSeek-R1 outperforms GPT-4o on many math and reasoning benchmarks by leveraging reinforcement learning.\n",
        "[webpage 2 end]\"\"\""
      ],
      "metadata": {
        "id": "317-UpTcXEc1"
      },
      "execution_count": 22,
      "outputs": []
    },
    {
      "cell_type": "code",
      "source": [
        "import json\n",
        "import requests\n",
        "from datetime import datetime\n",
        "\n",
        "timestamp = datetime.now().strftime(\"%Y%m%d_%H%M%S\")\n",
        "\n",
        "if MODE == \"file\":\n",
        "    prompt_text = f\"<think>\\n[file name]: {file_name}\\n[file content begin]\\n{file_content}\\n[file content end]\\n{file_question}\"\n",
        "elif MODE == \"web\":\n",
        "    prompt_text = f\"<think>\\n# The following contents are the search results related to the user's message:\\n{web_snippets}\\n{web_question}\"\n",
        "else:\n",
        "    raise ValueError(\"MODE must be 'file' or 'web'\")\n",
        "\n",
        "payload = {\n",
        "    \"model\": \"deepseek-chat\",\n",
        "    \"messages\": [{\"role\": \"user\", \"content\": prompt_text}],\n",
        "    \"temperature\": 0.6\n",
        "}\n",
        "\n",
        "headers = {\n",
        "    \"Authorization\": f\"Bearer {API_KEY}\",\n",
        "    \"Content-Type\": \"application/json\"\n",
        "}\n",
        "\n",
        "response = requests.post(\n",
        "    \"https://api.deepseek.com/v1/chat/completions\",\n",
        "    headers=headers,\n",
        "    json=payload\n",
        ")\n",
        "\n",
        "with open(\"deepseek_response.json\", \"w\") as f:\n",
        "    f.write(response.text)\n",
        "\n",
        "print(\"=== Response Saved ===\")"
      ],
      "metadata": {
        "id": "WXILWiMTYIiH",
        "outputId": "028152ac-c2b2-46f7-dd47-c98ad11b89cc",
        "colab": {
          "base_uri": "https://localhost:8080/"
        }
      },
      "execution_count": 23,
      "outputs": [
        {
          "output_type": "stream",
          "name": "stdout",
          "text": [
            "=== Response Saved ===\n"
          ]
        }
      ]
    },
    {
      "cell_type": "code",
      "source": [],
      "metadata": {
        "id": "9dg1JarkYc5L"
      },
      "execution_count": 23,
      "outputs": []
    },
    {
      "cell_type": "code",
      "source": [
        "with open(\"deepseek_response.json\") as f:\n",
        "    data = json.load(f)\n",
        "\n",
        "reply = data.get(\"choices\", [{}])[0].get(\"message\", {}).get(\"content\", \"[No response found]\")\n",
        "print(\"=== Model Reply ===\")\n",
        "print(reply)"
      ],
      "metadata": {
        "id": "Of0TMBSxYdik",
        "outputId": "2c0710f1-5ea5-407f-bd98-a0c3f907865e",
        "colab": {
          "base_uri": "https://localhost:8080/"
        }
      },
      "execution_count": 24,
      "outputs": [
        {
          "output_type": "stream",
          "name": "stdout",
          "text": [
            "=== Model Reply ===\n",
            "[No response found]\n"
          ]
        }
      ]
    },
    {
      "cell_type": "code",
      "source": [
        "import json\n",
        "with open(\"deepseek_response.json\") as f:\n",
        "    print(f.read())"
      ],
      "metadata": {
        "colab": {
          "base_uri": "https://localhost:8080/"
        },
        "id": "UvbKNR7XbyyP",
        "outputId": "20c98686-bd19-4632-ddbb-fdefb70a4c0d"
      },
      "execution_count": 25,
      "outputs": [
        {
          "output_type": "stream",
          "name": "stdout",
          "text": [
            "{\"error\":{\"message\":\"Insufficient Balance\",\"type\":\"unknown_error\",\"param\":null,\"code\":\"invalid_request_error\"}}\n"
          ]
        }
      ]
    }
  ],
  "metadata": {
    "colab": {
      "provenance": [],
      "include_colab_link": true
    },
    "kernelspec": {
      "display_name": "Python 3",
      "name": "python3"
    }
  },
  "nbformat": 4,
  "nbformat_minor": 0
}